{
 "cells": [
  {
   "cell_type": "markdown",
   "id": "d94e40fe-5d2e-4fbc-b324-2d2aff67b7ca",
   "metadata": {},
   "source": [
    "# Play with interactive functions"
   ]
  },
  {
   "cell_type": "code",
   "execution_count": null,
   "id": "53b7b31b-1e04-436f-bfbb-bd2ab6156005",
   "metadata": {},
   "outputs": [],
   "source": [
    "from glidertest import tools, utilities, plots,fetchers, interactive\n",
    "ds = fetchers.load_sample_dataset()"
   ]
  },
  {
   "cell_type": "markdown",
   "id": "f6a927ec-e9b2-4a50-b8e6-a79634c5ae46",
   "metadata": {},
   "source": [
    "### A cool interactive map 🗺️"
   ]
  },
  {
   "cell_type": "code",
   "execution_count": null,
   "id": "fae6331e-f0d3-4119-9176-0f79034e67bb",
   "metadata": {
    "scrolled": true
   },
   "outputs": [],
   "source": [
    "interactive.mission_map(ds)"
   ]
  },
  {
   "cell_type": "markdown",
   "id": "c6981302-e514-491f-baef-23c85bd6378b",
   "metadata": {},
   "source": [
    "### Interactive up-down bias plot"
   ]
  },
  {
   "cell_type": "code",
   "execution_count": null,
   "id": "4fcd7b2e-7605-4107-b357-a7eccc02526c",
   "metadata": {},
   "outputs": [],
   "source": [
    "interactive.interactive_up_down_bias(ds)"
   ]
  },
  {
   "cell_type": "markdown",
   "id": "b5f0f974-18ae-471b-9a69-ea915a200cf0",
   "metadata": {},
   "source": [
    "### Interactive day-night average"
   ]
  },
  {
   "cell_type": "code",
   "execution_count": null,
   "id": "0a7f7b07-88cc-44ce-aeb1-55a7355ca597",
   "metadata": {},
   "outputs": [],
   "source": [
    "interactive.interactive_daynight_avg(ds)"
   ]
  },
  {
   "cell_type": "markdown",
   "id": "a636884f-0f7f-474e-a9b7-7d9eb502996f",
   "metadata": {},
   "source": [
    "### Interactive profile plotter 🤯"
   ]
  },
  {
   "cell_type": "code",
   "execution_count": null,
   "id": "834fead2-cf7f-4360-a71d-dfd4dc6b3841",
   "metadata": {},
   "outputs": [],
   "source": [
    "interactive.interactive_profile(ds)"
   ]
  },
  {
   "cell_type": "markdown",
   "id": "aa969f09-1764-43e1-8558-933cb47773e1",
   "metadata": {},
   "source": [
    "### A TS plot where you can filter the limits 😲"
   ]
  },
  {
   "cell_type": "code",
   "execution_count": null,
   "id": "568889e6-7e67-4515-a61c-8c338578cf76",
   "metadata": {},
   "outputs": [],
   "source": [
    "interactive.interactive_ts_plot(ds)"
   ]
  }
 ],
 "metadata": {
  "kernelspec": {
   "display_name": "Python 3 (ipykernel)",
   "language": "python",
   "name": "python3"
  },
  "language_info": {
   "codemirror_mode": {
    "name": "ipython",
    "version": 3
   },
   "file_extension": ".py",
   "mimetype": "text/x-python",
   "name": "python",
   "nbconvert_exporter": "python",
   "pygments_lexer": "ipython3",
   "version": "3.10.12"
  }
 },
 "nbformat": 4,
 "nbformat_minor": 5
}
